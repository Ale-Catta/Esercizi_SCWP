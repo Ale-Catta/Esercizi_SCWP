{
 "cells": [
  {
   "cell_type": "markdown",
   "id": "265a21c3-f47e-48f2-8bd1-923a81a4c43c",
   "metadata": {},
   "source": [
    "# Q1: the stock market"
   ]
  },
  {
   "cell_type": "code",
   "execution_count": 67,
   "id": "69f751a0-fe88-443b-aba8-24820c5d0f76",
   "metadata": {},
   "outputs": [],
   "source": [
    "import numpy as np\n",
    "import random\n",
    "import time"
   ]
  },
  {
   "cell_type": "code",
   "execution_count": 1,
   "id": "d5543bf4-6ac6-41c4-9a7e-0b26247ff2f1",
   "metadata": {},
   "outputs": [],
   "source": [
    "def next_day_Bull():\n",
    "    n = random.randint(1, 1000)\n",
    "    if n <= 900:\n",
    "        return \"Bull market\"\n",
    "    elif n <= 975:\n",
    "        return \"Bear market\"\n",
    "    else:\n",
    "        return \"Stagnant market\"\n",
    "\n",
    "def next_day_Bear():\n",
    "    n = random.randint(1, 1000)\n",
    "    if n <= 800:\n",
    "        return \"Bear market\"\n",
    "    elif n <= 950:\n",
    "        return \"Bull market\"\n",
    "    else:\n",
    "        return \"Stagnant market\"\n",
    "\n",
    "def next_day_Stagnant():\n",
    "    n = random.randint(1, 1000)\n",
    "    if n <= 500:\n",
    "        return \"Stagnant market\"\n",
    "    elif n <= 750:\n",
    "        return \"Bull market\"\n",
    "    else:\n",
    "        return \"Bear market\"\n",
    "\n",
    "def first_day():\n",
    "    n = random.randint(1, 1000)\n",
    "    if n <= 333:\n",
    "        return \"Stagnant market\"\n",
    "    elif n <= 666:\n",
    "        return \"Bull market\"\n",
    "    else:\n",
    "        return \"Bear market\"\n",
    "\n",
    "# Function to calculate days\n",
    "def calcolo_giorni(day, type_of_days):\n",
    "    if day == \"Bull market\":\n",
    "        type_of_days[0] += 1\n",
    "        day = next_day_Bull()\n",
    "    elif day == \"Bear market\":\n",
    "        type_of_days[1] += 1\n",
    "        day = next_day_Bear()\n",
    "    elif day == \"Stagnant market\":\n",
    "        type_of_days[2] += 1\n",
    "        day = next_day_Stagnant()\n",
    "    return day, type_of_days"
   ]
  },
  {
   "cell_type": "code",
   "execution_count": 2,
   "id": "668978fb-3bcd-4223-91a4-365158bfbf8e",
   "metadata": {},
   "outputs": [
    {
     "name": "stdout",
     "output_type": "stream",
     "text": [
      "giorni in Bull: 62.20 %\n",
      "giorni in Bear: 31.64 %\n",
      "giorni in Stagnant: 6.16 %\n",
      "Totale: 100.00 %\n",
      "CPU times: total: 78.1 ms\n",
      "Wall time: 153 ms\n"
     ]
    }
   ],
   "source": [
    "%%time\n",
    "\n",
    "N_giorni = 100000\n",
    "\n",
    "days_in_Bull = 0\n",
    "days_in_Bear = 0\n",
    "days_in_Stagnant = 0\n",
    "type_of_days = [days_in_Bull, days_in_Bear, days_in_Stagnant]\n",
    "\n",
    "day = first_day()\n",
    "\n",
    "for _ in range(N_giorni):\n",
    "    day, type_of_days = calcolo_giorni(day, type_of_days)\n",
    "\n",
    "# Results\n",
    "print(\"giorni in Bull: {:.2f} %\".format(type_of_days[0] / N_giorni * 100))\n",
    "print(\"giorni in Bear: {:.2f} %\".format(type_of_days[1] / N_giorni * 100))\n",
    "print(\"giorni in Stagnant: {:.2f} %\".format(type_of_days[2] / N_giorni * 100))\n",
    "print(\"Totale: {:.2f} %\".format(sum(type_of_days) / N_giorni * 100))\n"
   ]
  },
  {
   "cell_type": "markdown",
   "id": "54cab474-5e06-497c-998c-da2826464942",
   "metadata": {},
   "source": [
    "Numba version"
   ]
  },
  {
   "cell_type": "code",
   "execution_count": 5,
   "id": "3319c56d-827c-4208-9a96-4b360424dcf8",
   "metadata": {},
   "outputs": [],
   "source": [
    "from numba import njit\n",
    "import numpy as np\n",
    "\n",
    "@njit\n",
    "def next_day(day):\n",
    "    n = np.random.randint(1, 1001)\n",
    "    if day == 0:  # Bull market\n",
    "        if n <= 900:\n",
    "            return 0\n",
    "        elif n <= 975:\n",
    "            return 1\n",
    "        else:\n",
    "            return 2\n",
    "    elif day == 1:  # Bear market\n",
    "        if n <= 800:\n",
    "            return 1\n",
    "        elif n <= 950:\n",
    "            return 0\n",
    "        else:\n",
    "            return 2\n",
    "    else:  # Stagnant market\n",
    "        if n <= 500:\n",
    "            return 2\n",
    "        elif n <= 750:\n",
    "            return 0\n",
    "        else:\n",
    "            return 1\n",
    "\n",
    "@njit\n",
    "def simulate_markov_chain(n_days):\n",
    "    # Initialize counts and current state\n",
    "    days_count = np.zeros(3, dtype=np.int32)\n",
    "    current_day = np.random.randint(0, 3)  # Random initial state (0: Bull, 1: Bear, 2: Stagnant)\n",
    "    for _ in range(n_days):\n",
    "        days_count[current_day] += 1\n",
    "        current_day = next_day(current_day)\n",
    "    return days_count"
   ]
  },
  {
   "cell_type": "code",
   "execution_count": 11,
   "id": "94ea18c4-a37e-4d27-bbdc-751593776c4d",
   "metadata": {},
   "outputs": [
    {
     "name": "stdout",
     "output_type": "stream",
     "text": [
      "giorni in Bull: 62.49 %\n",
      "giorni in Bear: 31.27 %\n",
      "giorni in Stagnant: 6.24 %\n",
      "Totale: 100.00 %\n",
      "CPU times: total: 62.5 ms\n",
      "Wall time: 63.2 ms\n"
     ]
    }
   ],
   "source": [
    "%%time\n",
    "\n",
    "N_giorni = 10_000_000\n",
    "days_count = simulate_markov_chain(N_giorni)\n",
    "\n",
    "# Results\n",
    "print(\"giorni in Bull: {:.2f} %\".format(days_count[0] / N_giorni * 100))\n",
    "print(\"giorni in Bear: {:.2f} %\".format(days_count[1] / N_giorni * 100))\n",
    "print(\"giorni in Stagnant: {:.2f} %\".format(days_count[2] / N_giorni * 100))\n",
    "print(\"Totale: {:.2f} %\".format(sum(days_count) / N_giorni * 100))"
   ]
  },
  {
   "cell_type": "markdown",
   "id": "6a795a60-510b-49bc-a10c-68e611613250",
   "metadata": {},
   "source": [
    "# S2: consisten plotting"
   ]
  },
  {
   "cell_type": "code",
   "execution_count": 17,
   "id": "49c54eee-e2d8-4eff-9e7a-b207de792737",
   "metadata": {},
   "outputs": [],
   "source": [
    "import matplotlib.pyplot as plt\n",
    "from functools import wraps\n",
    "\n",
    "def myplot(func):\n",
    "    def wrapper(*args, **kwargs):\n",
    "        \n",
    "        plt.style.use('default') \n",
    "        fig, ax = plt.subplots(figsize=(8, 6))  \n",
    "        \n",
    "        plt.rc('font', size=12)          \n",
    "        plt.rc('axes', titlesize=14)    \n",
    "        plt.rc('axes', labelsize=13)\n",
    "        plt.rc('xtick', labelsize=12)\n",
    "        plt.rc('ytick', labelsize=12)\n",
    "        \n",
    "        result = func(*args, ax=ax, **kwargs)  \n",
    "        \n",
    "        filename = func.__name__ + \".pdf\"  \n",
    "        plt.savefig(filename, bbox_inches='tight', dpi=300)\n",
    "        print(f\"Plot saved to {filename}\")\n",
    "        \n",
    "        plt.show()\n",
    "        \n",
    "        return result\n",
    "    return wrapper\n"
   ]
  },
  {
   "cell_type": "code",
   "execution_count": 20,
   "id": "273504aa-3647-4fcd-84ce-1bcd8a84dd8d",
   "metadata": {},
   "outputs": [
    {
     "name": "stderr",
     "output_type": "stream",
     "text": [
      "<>:8: SyntaxWarning: invalid escape sequence '\\p'\n",
      "<>:8: SyntaxWarning: invalid escape sequence '\\p'\n",
      "C:\\Users\\User\\AppData\\Local\\Temp\\ipykernel_12088\\1877299366.py:8: SyntaxWarning: invalid escape sequence '\\p'\n",
      "  ax.set_xlabel(\"$\\phi$ [rad]\")\n"
     ]
    },
    {
     "name": "stdout",
     "output_type": "stream",
     "text": [
      "Plot saved to plot_sin.pdf\n"
     ]
    },
    {
     "data": {
      "image/png": "[encoded data removed]",
      "text/plain": [
       "<Figure size 800x600 with 1 Axes>"
      ]
     },
     "metadata": {},
     "output_type": "display_data"
    }
   ],
   "source": [
    "import numpy as np\n",
    "import math\n",
    "\n",
    "@myplot\n",
    "def plot_sin(ax, x, y):\n",
    "    ax.plot(x, y, label=\"Sine wave\")\n",
    "    ax.set_title(\"Sine Plot\")\n",
    "    ax.set_xlabel(\"$\\phi$ [rad]\")\n",
    "    ax.set_ylabel(\"Amplitude [a.u.]\")\n",
    "    ax.legend()\n",
    "\n",
    "x = np.linspace(0, 4 * math.pi, 1000)\n",
    "y = np.sin(x)\n",
    "\n",
    "plot_sin(x=x, y=y)"
   ]
  },
  {
   "cell_type": "code",
   "execution_count": null,
   "id": "a04d1851-c51f-4cd1-807f-d7b589d35e47",
   "metadata": {},
   "outputs": [],
   "source": []
  }
 ],
 "metadata": {
  "kernelspec": {
   "display_name": "Python 3 (ipykernel)",
   "language": "python",
   "name": "python3"
  },
  "language_info": {
   "codemirror_mode": {
    "name": "ipython",
    "version": 3
   },
   "file_extension": ".py",
   "mimetype": "text/x-python",
   "name": "python",
   "nbconvert_exporter": "python",
   "pygments_lexer": "ipython3",
   "version": "3.12.2"
  }
 },
 "nbformat": 4,
 "nbformat_minor": 5
}
