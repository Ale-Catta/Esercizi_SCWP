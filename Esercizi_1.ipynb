{
 "cells": [
  {
   "cell_type": "markdown",
   "id": "21b2b3c6-e78d-47c9-b6a4-b705962aa6e9",
   "metadata": {
    "jp-MarkdownHeadingCollapsed": true
   },
   "source": [
    "# S9 poker - Importing"
   ]
  },
  {
   "cell_type": "code",
   "execution_count": 38,
   "id": "3fcb822d-d8e1-42e1-95c3-8156623b919f",
   "metadata": {},
   "outputs": [],
   "source": [
    "import Es1 as deck"
   ]
  },
  {
   "cell_type": "markdown",
   "id": "0e4f1cc3-cc9d-4773-ae35-98865ceee18e",
   "metadata": {},
   "source": [
    "Probabilità coppia:"
   ]
  },
  {
   "cell_type": "code",
   "execution_count": 39,
   "id": "6a8d22f9-d41d-454d-9ba7-d851a781f21e",
   "metadata": {},
   "outputs": [
    {
     "name": "stdout",
     "output_type": "stream",
     "text": [
      "La probabilità di pescare una coppia è del:  49.156 %\n"
     ]
    }
   ],
   "source": [
    "N_positivi = 0\n",
    "N_mani = 100000\n",
    "for i in range(N_mani):\n",
    "    mydeck=deck.Deck()\n",
    "    mydeck.shuffle()\n",
    "    hand = mydeck.get_cards(5)\n",
    "    if has_duplicate_ranks(hand) == True:\n",
    "        N_positivi += 1\n",
    "\n",
    "print(\"La probabilità di pescare una coppia è del: \", N_positivi/N_mani * 100,\"%\") "
   ]
  },
  {
   "cell_type": "markdown",
   "id": "b22d447c-547e-433c-8d1a-e579eac82dea",
   "metadata": {},
   "source": [
    "Probabilità tris:"
   ]
  },
  {
   "cell_type": "code",
   "execution_count": 41,
   "id": "b9f4bd1c-ecbb-49ba-90bf-5df5a69d2cdd",
   "metadata": {},
   "outputs": [
    {
     "name": "stdout",
     "output_type": "stream",
     "text": [
      "La probabilità di pescare un tris è del:  2.2319999999999998 %\n"
     ]
    }
   ],
   "source": [
    "N_positivi = 0\n",
    "N_mani = 100000\n",
    "for i in range(N_mani):\n",
    "    mydeck=deck.Deck()\n",
    "    mydeck.shuffle()\n",
    "    hand = mydeck.get_cards(5)\n",
    "    if has_triplicate_ranks(hand) == True:\n",
    "        N_positivi += 1\n",
    "\n",
    "print(\"La probabilità di pescare un tris è del: \", N_positivi/N_mani * 100,\"%\")"
   ]
  },
  {
   "cell_type": "markdown",
   "id": "2025c80d-4fdd-4748-aa21-63b8979b411d",
   "metadata": {},
   "source": [
    "# S9 poker"
   ]
  },
  {
   "cell_type": "code",
   "execution_count": 16,
   "id": "a93e1d35-b845-4f8e-97f2-5fbeb22720c8",
   "metadata": {},
   "outputs": [],
   "source": [
    "import random\n",
    "\n",
    "class Card:\n",
    "    \n",
    "    def __init__(self, suit=1, rank=2):\n",
    "        if suit < 1 or suit > 4:\n",
    "            print(\"invalid suit, setting to 1\")\n",
    "            suit = 1\n",
    "            \n",
    "        self.suit = suit\n",
    "        self.rank = rank\n",
    "        \n",
    "    def value(self):\n",
    "        \"\"\" we want things order primarily by rank then suit \"\"\"\n",
    "        return self.suit + (self.rank-1)*14\n",
    "    \n",
    "    # we include this to allow for comparisons with < and > between cards \n",
    "    def __lt__(self, other):\n",
    "        return self.value() < other.value()\n",
    "\n",
    "    def __eq__(self, other):\n",
    "        return self.rank == other.rank and self.suit == other.suit\n",
    "    \n",
    "    def __repr__(self):\n",
    "        return self.__str__()\n",
    "    \n",
    "    def __str__(self):\n",
    "        suits = [u\"\\u2660\",  # spade\n",
    "                 u\"\\u2665\",  # heart\n",
    "                 u\"\\u2666\",  # diamond\n",
    "                 u\"\\u2663\"]  # club\n",
    "        \n",
    "        r = str(self.rank)\n",
    "        if self.rank == 11:\n",
    "            r = \"J\"\n",
    "        elif self.rank == 12:\n",
    "            r = \"Q\"\n",
    "        elif self.rank == 13:\n",
    "            r = \"K\"\n",
    "        elif self.rank == 14:\n",
    "            r = \"A\"\n",
    "                \n",
    "        return r +':'+suits[self.suit-1]\n",
    "\n",
    "class Deck:\n",
    "    \"\"\" the deck is a collection of cards \"\"\"\n",
    "\n",
    "    def __init__(self):\n",
    "\n",
    "        self.nsuits = 4\n",
    "        self.nranks = 13\n",
    "        self.minrank = 2\n",
    "        self.maxrank = self.minrank + self.nranks - 1\n",
    "\n",
    "        self.cards = []\n",
    "\n",
    "        for rank in range(self.minrank,self.maxrank+1):\n",
    "            for suit in range(1, self.nsuits+1):\n",
    "                self.cards.append(Card(rank=rank, suit=suit))\n",
    "\n",
    "    def shuffle(self):\n",
    "        random.shuffle(self.cards)\n",
    "\n",
    "    def get_cards(self, num=1):\n",
    "        hand = []\n",
    "        for n in range(num):\n",
    "            hand.append(self.cards.pop())\n",
    "\n",
    "        return hand\n",
    "    \n",
    "    def __str__(self):\n",
    "        string = \"\"\n",
    "        for c in self.cards:\n",
    "            string += str(c) + \" \"\n",
    "        return string\n",
    "\n",
    "    def has_duplicate_ranks(cards):\n",
    "    seen_ranks = set()\n",
    "    for card in cards:\n",
    "        rank = card.rank\n",
    "        if rank in seen_ranks:\n",
    "            return True  # Duplicato trovato\n",
    "        seen_ranks.add(rank)\n",
    "    return False  # Nessun duplicato\n",
    "\n",
    "    def has_triplicate_ranks(hand):\n",
    "    rank_counts = {}\n",
    "\n",
    "    for card in hand:\n",
    "        rank = card.rank  # Ottieni il rank della carta\n",
    "        if rank in rank_counts:\n",
    "            rank_counts[rank] += 1\n",
    "        else:\n",
    "            rank_counts[rank] = 1\n",
    "\n",
    "        # Se troviamo già un triplo, possiamo terminare\n",
    "        if rank_counts[rank] == 3:\n",
    "            return True\n",
    "\n",
    "    return False"
   ]
  },
  {
   "cell_type": "code",
   "execution_count": 17,
   "id": "df92b406-fbf7-4a98-b8e5-c5c63f3fa04c",
   "metadata": {},
   "outputs": [
    {
     "name": "stdout",
     "output_type": "stream",
     "text": [
      "2:♥\n"
     ]
    }
   ],
   "source": [
    "c2 = Card(suit=2, rank=2)\n",
    "print(c2)"
   ]
  },
  {
   "cell_type": "code",
   "execution_count": 22,
   "id": "a0086cb5-7194-4d51-9dc3-2e64eed40a5a",
   "metadata": {},
   "outputs": [
    {
     "name": "stdout",
     "output_type": "stream",
     "text": [
      "4:♦\n",
      "8:♦\n",
      "9:♠\n",
      "9:♦\n",
      "A:♠\n"
     ]
    }
   ],
   "source": [
    "mydeck = Deck()\n",
    "mydeck.shuffle()\n",
    "\n",
    "hand = mydeck.get_cards(5)\n",
    "for c in sorted(hand): print(c)"
   ]
  },
  {
   "cell_type": "code",
   "execution_count": 9,
   "id": "d31896f2-9620-4466-afe2-6884f311762f",
   "metadata": {},
   "outputs": [
    {
     "data": {
      "text/plain": [
       "__main__.Card"
      ]
     },
     "execution_count": 9,
     "metadata": {},
     "output_type": "execute_result"
    }
   ],
   "source": [
    "type(c2)"
   ]
  },
  {
   "cell_type": "code",
   "execution_count": 14,
   "id": "56816768-4671-40a9-b348-91b23cc5ca51",
   "metadata": {},
   "outputs": [],
   "source": [
    "def has_duplicate_ranks(cards):\n",
    "    seen_ranks = set()\n",
    "    for card in cards:\n",
    "        rank = card.rank\n",
    "        if rank in seen_ranks:\n",
    "            return True  # Duplicato trovato\n",
    "        seen_ranks.add(rank)\n",
    "    return False  # Nessun duplicato"
   ]
  },
  {
   "cell_type": "markdown",
   "id": "662c94ed-8778-4ab9-b645-20840a9d06f0",
   "metadata": {},
   "source": [
    "Probabilità di ottenere una coppia"
   ]
  },
  {
   "cell_type": "code",
   "execution_count": 35,
   "id": "c648c809-a70f-469f-b07c-750efe499550",
   "metadata": {},
   "outputs": [
    {
     "name": "stdout",
     "output_type": "stream",
     "text": [
      "La probabilità di pescare una coppia è del:  49.663000000000004 %\n"
     ]
    }
   ],
   "source": [
    "N_positivi = 0\n",
    "N_mani = 100000\n",
    "for i in range(N_mani):\n",
    "    mydeck=Deck()\n",
    "    mydeck.shuffle()\n",
    "    hand = mydeck.get_cards(5)\n",
    "    if has_duplicate_ranks(hand) == True:\n",
    "        N_positivi += 1\n",
    "\n",
    "print(\"La probabilità di pescare una coppia è del: \", N_positivi/N_mani * 100,\"%\")        "
   ]
  },
  {
   "cell_type": "code",
   "execution_count": 31,
   "id": "dd0f2a01-45a6-4bf8-bb04-5b6a6d6dae6f",
   "metadata": {},
   "outputs": [],
   "source": [
    "def has_triplicate_ranks(hand):\n",
    "    \"\"\"\n",
    "    Verifica se ci sono tre carte con lo stesso rank in una mano di carte.\n",
    "    :param hand: Lista di oggetti Card\n",
    "    :return: True se esiste almeno un rank ripetuto tre volte, altrimenti False\n",
    "    \"\"\"\n",
    "    rank_counts = {}\n",
    "\n",
    "    for card in hand:\n",
    "        rank = card.rank  # Ottieni il rank della carta\n",
    "        if rank in rank_counts:\n",
    "            rank_counts[rank] += 1\n",
    "        else:\n",
    "            rank_counts[rank] = 1\n",
    "\n",
    "        # Se troviamo già un triplo, possiamo terminare\n",
    "        if rank_counts[rank] == 3:\n",
    "            return True\n",
    "\n",
    "    return False"
   ]
  },
  {
   "cell_type": "markdown",
   "id": "b2162ea4-8faf-41fe-b436-22690d95f77d",
   "metadata": {},
   "source": [
    "Probabilità di ottenere un tris"
   ]
  },
  {
   "cell_type": "code",
   "execution_count": 34,
   "id": "f74b7e11-2646-4939-9441-a0b893b84348",
   "metadata": {},
   "outputs": [
    {
     "name": "stdout",
     "output_type": "stream",
     "text": [
      "La probabilità di pescare un tris è del:  2.284 %\n"
     ]
    }
   ],
   "source": [
    "N_positivi = 0\n",
    "N_mani = 100000\n",
    "for i in range(N_mani):\n",
    "    mydeck=Deck()\n",
    "    mydeck.shuffle()\n",
    "    hand = mydeck.get_cards(5)\n",
    "    if has_triplicate_ranks(hand) == True:\n",
    "        N_positivi += 1\n",
    "\n",
    "print(\"La probabilità di pescare un tris è del: \", N_positivi/N_mani * 100,\"%\") "
   ]
  },
  {
   "cell_type": "markdown",
   "id": "f6c5897d-370b-4ed7-97ca-8cb4ad16c6e5",
   "metadata": {},
   "source": [
    "# S11 Rock-Paper-Scissor"
   ]
  },
  {
   "cell_type": "code",
   "execution_count": null,
   "id": "367f18c4-a51b-4b13-b1d4-40217b67878a",
   "metadata": {},
   "outputs": [],
   "source": []
  }
 ],
 "metadata": {
  "kernelspec": {
   "display_name": "Python 3 (ipykernel)",
   "language": "python",
   "name": "python3"
  },
  "language_info": {
   "codemirror_mode": {
    "name": "ipython",
    "version": 3
   },
   "file_extension": ".py",
   "mimetype": "text/x-python",
   "name": "python",
   "nbconvert_exporter": "python",
   "pygments_lexer": "ipython3",
   "version": "3.12.2"
  }
 },
 "nbformat": 4,
 "nbformat_minor": 5
}
